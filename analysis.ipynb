{
 "cells": [
  {
   "cell_type": "markdown",
   "id": "b553d296-804b-4c7c-8331-7df109bb01ab",
   "metadata": {},
   "source": [
    "# PISA 2022 analysis\n",
    "\n",
    "Some basic analysis on school student performance in PISA tests across OECD countries. in particular we examine\n",
    "- the effect of GDP per capita\n",
    "- Culture\n",
    "- Gender\n",
    "- etc."
   ]
  },
  {
   "cell_type": "code",
   "execution_count": 1,
   "id": "e2f6c97b-37c0-4748-88e0-e7e6f3dfcf84",
   "metadata": {},
   "outputs": [],
   "source": [
    "import pandas as pd"
   ]
  },
  {
   "cell_type": "markdown",
   "id": "902f83b1-3291-4951-83ae-07ddc43ea0b1",
   "metadata": {},
   "source": [
    "## Loading data\n",
    "(data source: https://www.oecd-ilibrary.org/education/pisa-2022-results-volume-i_53f23881-en )"
   ]
  },
  {
   "cell_type": "code",
   "execution_count": null,
   "id": "d2b85e3c-a02f-4b3a-ae02-fa30c348154e",
   "metadata": {},
   "outputs": [],
   "source": []
  }
 ],
 "metadata": {
  "kernelspec": {
   "display_name": "Python 3 (ipykernel)",
   "language": "python",
   "name": "python3"
  },
  "language_info": {
   "codemirror_mode": {
    "name": "ipython",
    "version": 3
   },
   "file_extension": ".py",
   "mimetype": "text/x-python",
   "name": "python",
   "nbconvert_exporter": "python",
   "pygments_lexer": "ipython3",
   "version": "3.9.6"
  }
 },
 "nbformat": 4,
 "nbformat_minor": 5
}
